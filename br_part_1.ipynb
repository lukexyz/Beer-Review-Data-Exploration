{
 "cells": [
  {
   "cell_type": "markdown",
   "metadata": {},
   "source": [
    "\n",
    "# Beer Review Data Exploration - Part 1\n",
    "\n",
    "February 2016 by Luke Woods\n",
    "\n",
    "\n",
    "*This dataset consists of 1.5 million beer reviews from BeerAdvocate.com (available on [Amazon S3 demo-datasets](https://s3.amazonaws.com/demo-datasets/beer_reviews.tar.gz).)*\n",
    "\n",
    "___\n",
    "\n",
    "\n",
    "<img style=\"float: right;\" src=http://i.imgur.com/k4lvXN4.png?1>\n",
    "\n",
    "The following questions are explored as the problem definition. For more see the blog post at [TCB Analytics](http://tcbanalytics.com/blog/testing-data-skills.html#.VvyGGxJ96Rt).\n",
    "\n",
    ">1. Which brewery produces the strongest beers by ABV%?\n",
    ">2. If you had to pick 3 beers to recommend using only this data, which would you pick?\n",
    ">3. Which of the factors (aroma, taste, appearance, palette) are most important in determining the overall quality of a beer?\n",
    ">4. Lastly, if I typically enjoy a beer due to its aroma and appearance, which beer style should I try?\n",
    "\n",
    "___\n",
    "\n",
    "First, importing libraries and reading the dataset into pandas."
   ]
  },
  {
   "cell_type": "code",
   "execution_count": 2,
   "metadata": {
    "collapsed": false
   },
   "outputs": [],
   "source": [
    "import numpy as np\n",
    "import pandas as pd\n",
    "import matplotlib.pyplot as plt\n",
    "import seaborn as sns\n",
    "from sklearn.linear_model import LinearRegression\n",
    "%matplotlib inline"
   ]
  },
  {
   "cell_type": "code",
   "execution_count": 3,
   "metadata": {
    "collapsed": false,
    "scrolled": true
   },
   "outputs": [
    {
     "data": {
      "text/plain": [
       "(1586614, 13)"
      ]
     },
     "execution_count": 3,
     "metadata": {},
     "output_type": "execute_result"
    }
   ],
   "source": [
    "df = pd.read_csv('beer_reviews.csv')\n",
    "df.shape"
   ]
  },
  {
   "cell_type": "code",
   "execution_count": 4,
   "metadata": {
    "collapsed": false
   },
   "outputs": [
    {
     "data": {
      "text/plain": [
       "Index(['brewery_id', 'brewery_name', 'review_time', 'review_overall',\n",
       "       'review_aroma', 'review_appearance', 'review_profilename', 'beer_style',\n",
       "       'review_palate', 'review_taste', 'beer_name', 'beer_abv',\n",
       "       'beer_beerid'],\n",
       "      dtype='object')"
      ]
     },
     "execution_count": 4,
     "metadata": {},
     "output_type": "execute_result"
    }
   ],
   "source": [
    "df.columns"
   ]
  },
  {
   "cell_type": "markdown",
   "metadata": {},
   "source": [
    "### 1. Which brewery produces the strongest beers by ABV%?\n",
    "First, trimming the dataframe down to the relevant columns."
   ]
  },
  {
   "cell_type": "code",
   "execution_count": 5,
   "metadata": {
    "collapsed": false,
    "scrolled": false
   },
   "outputs": [
    {
     "data": {
      "text/html": [
       "<div>\n",
       "<table border=\"1\" class=\"dataframe\">\n",
       "  <thead>\n",
       "    <tr style=\"text-align: right;\">\n",
       "      <th></th>\n",
       "      <th>brewery_name</th>\n",
       "      <th>beer_name</th>\n",
       "      <th>beer_abv</th>\n",
       "    </tr>\n",
       "  </thead>\n",
       "  <tbody>\n",
       "    <tr>\n",
       "      <th>0</th>\n",
       "      <td>Vecchio Birraio</td>\n",
       "      <td>Sausa Weizen</td>\n",
       "      <td>5.0</td>\n",
       "    </tr>\n",
       "    <tr>\n",
       "      <th>1</th>\n",
       "      <td>Vecchio Birraio</td>\n",
       "      <td>Red Moon</td>\n",
       "      <td>6.2</td>\n",
       "    </tr>\n",
       "    <tr>\n",
       "      <th>2</th>\n",
       "      <td>Vecchio Birraio</td>\n",
       "      <td>Black Horse Black Beer</td>\n",
       "      <td>6.5</td>\n",
       "    </tr>\n",
       "    <tr>\n",
       "      <th>3</th>\n",
       "      <td>Vecchio Birraio</td>\n",
       "      <td>Sausa Pils</td>\n",
       "      <td>5.0</td>\n",
       "    </tr>\n",
       "    <tr>\n",
       "      <th>4</th>\n",
       "      <td>Caldera Brewing Company</td>\n",
       "      <td>Cauldron DIPA</td>\n",
       "      <td>7.7</td>\n",
       "    </tr>\n",
       "  </tbody>\n",
       "</table>\n",
       "</div>"
      ],
      "text/plain": [
       "              brewery_name               beer_name  beer_abv\n",
       "0          Vecchio Birraio            Sausa Weizen       5.0\n",
       "1          Vecchio Birraio                Red Moon       6.2\n",
       "2          Vecchio Birraio  Black Horse Black Beer       6.5\n",
       "3          Vecchio Birraio              Sausa Pils       5.0\n",
       "4  Caldera Brewing Company           Cauldron DIPA       7.7"
      ]
     },
     "execution_count": 5,
     "metadata": {},
     "output_type": "execute_result"
    }
   ],
   "source": [
    "brewery_df = df[['brewery_name', 'beer_name', 'beer_abv']]\n",
    "brewery_df.head()"
   ]
  },
  {
   "cell_type": "markdown",
   "metadata": {},
   "source": [
    "Grouping the reviews by brewery, then beer, gives a list of each brewery's beer collection. The [ size ] column shows how many reviews are logged for each beer."
   ]
  },
  {
   "cell_type": "code",
   "execution_count": 6,
   "metadata": {
    "collapsed": false,
    "scrolled": false
   },
   "outputs": [
    {
     "data": {
      "text/html": [
       "<div>\n",
       "<table border=\"1\" class=\"dataframe\">\n",
       "  <thead>\n",
       "    <tr>\n",
       "      <th></th>\n",
       "      <th></th>\n",
       "      <th colspan=\"2\" halign=\"left\">beer_abv</th>\n",
       "    </tr>\n",
       "    <tr>\n",
       "      <th></th>\n",
       "      <th></th>\n",
       "      <th>size</th>\n",
       "      <th>mean</th>\n",
       "    </tr>\n",
       "    <tr>\n",
       "      <th>brewery_name</th>\n",
       "      <th>beer_name</th>\n",
       "      <th></th>\n",
       "      <th></th>\n",
       "    </tr>\n",
       "  </thead>\n",
       "  <tbody>\n",
       "    <tr>\n",
       "      <th rowspan=\"7\" valign=\"top\">'t Hofbrouwerijke</th>\n",
       "      <th>Blondelle</th>\n",
       "      <td>1</td>\n",
       "      <td>8.0</td>\n",
       "    </tr>\n",
       "    <tr>\n",
       "      <th>Bosprotter</th>\n",
       "      <td>9</td>\n",
       "      <td>8.5</td>\n",
       "    </tr>\n",
       "    <tr>\n",
       "      <th>Hof Korvatunturi</th>\n",
       "      <td>2</td>\n",
       "      <td>11.0</td>\n",
       "    </tr>\n",
       "    <tr>\n",
       "      <th>Hofblues</th>\n",
       "      <td>16</td>\n",
       "      <td>5.5</td>\n",
       "    </tr>\n",
       "    <tr>\n",
       "      <th>Hofdraak</th>\n",
       "      <td>7</td>\n",
       "      <td>6.5</td>\n",
       "    </tr>\n",
       "    <tr>\n",
       "      <th>Hofnar</th>\n",
       "      <td>1</td>\n",
       "      <td>5.0</td>\n",
       "    </tr>\n",
       "    <tr>\n",
       "      <th>Hoftrol</th>\n",
       "      <td>1</td>\n",
       "      <td>6.2</td>\n",
       "    </tr>\n",
       "    <tr>\n",
       "      <th rowspan=\"3\" valign=\"top\">(512) Brewing Company</th>\n",
       "      <th>(512) Alt</th>\n",
       "      <td>11</td>\n",
       "      <td>6.0</td>\n",
       "    </tr>\n",
       "    <tr>\n",
       "      <th>(512) Black IPA</th>\n",
       "      <td>13</td>\n",
       "      <td>7.0</td>\n",
       "    </tr>\n",
       "    <tr>\n",
       "      <th>(512) Brandy Barrel Aged ONE</th>\n",
       "      <td>8</td>\n",
       "      <td>8.0</td>\n",
       "    </tr>\n",
       "  </tbody>\n",
       "</table>\n",
       "</div>"
      ],
      "text/plain": [
       "                                                   beer_abv      \n",
       "                                                       size  mean\n",
       "brewery_name          beer_name                                  \n",
       "'t Hofbrouwerijke     Blondelle                           1   8.0\n",
       "                      Bosprotter                          9   8.5\n",
       "                      Hof Korvatunturi                    2  11.0\n",
       "                      Hofblues                           16   5.5\n",
       "                      Hofdraak                            7   6.5\n",
       "                      Hofnar                              1   5.0\n",
       "                      Hoftrol                             1   6.2\n",
       "(512) Brewing Company (512) Alt                          11   6.0\n",
       "                      (512) Black IPA                    13   7.0\n",
       "                      (512) Brandy Barrel Aged ONE        8   8.0"
      ]
     },
     "execution_count": 6,
     "metadata": {},
     "output_type": "execute_result"
    }
   ],
   "source": [
    "abv_df = brewery_df.groupby(('brewery_name', 'beer_name')).agg({'beer_abv': [np.size, np.mean]})\n",
    "abv_df.head(10)"
   ]
  },
  {
   "cell_type": "code",
   "execution_count": 7,
   "metadata": {
    "collapsed": false,
    "scrolled": false
   },
   "outputs": [
    {
     "data": {
      "text/html": [
       "<div>\n",
       "<table border=\"1\" class=\"dataframe\">\n",
       "  <thead>\n",
       "    <tr>\n",
       "      <th></th>\n",
       "      <th colspan=\"2\" halign=\"left\">beer_abv</th>\n",
       "    </tr>\n",
       "    <tr>\n",
       "      <th></th>\n",
       "      <th>size</th>\n",
       "      <th>mean</th>\n",
       "    </tr>\n",
       "    <tr>\n",
       "      <th>brewery_name</th>\n",
       "      <th></th>\n",
       "      <th></th>\n",
       "    </tr>\n",
       "  </thead>\n",
       "  <tbody>\n",
       "    <tr>\n",
       "      <th>'t Hofbrouwerijke</th>\n",
       "      <td>5.285714</td>\n",
       "      <td>7.242857</td>\n",
       "    </tr>\n",
       "    <tr>\n",
       "      <th>(512) Brewing Company</th>\n",
       "      <td>21.714286</td>\n",
       "      <td>7.238462</td>\n",
       "    </tr>\n",
       "    <tr>\n",
       "      <th>10 Barrel Brewing Co.</th>\n",
       "      <td>4.941176</td>\n",
       "      <td>6.109091</td>\n",
       "    </tr>\n",
       "    <tr>\n",
       "      <th>1516 Brewing Company</th>\n",
       "      <td>1.888889</td>\n",
       "      <td>5.650000</td>\n",
       "    </tr>\n",
       "  </tbody>\n",
       "</table>\n",
       "</div>"
      ],
      "text/plain": [
       "                        beer_abv          \n",
       "                            size      mean\n",
       "brewery_name                              \n",
       "'t Hofbrouwerijke       5.285714  7.242857\n",
       "(512) Brewing Company  21.714286  7.238462\n",
       "10 Barrel Brewing Co.   4.941176  6.109091\n",
       "1516 Brewing Company    1.888889  5.650000"
      ]
     },
     "execution_count": 7,
     "metadata": {},
     "output_type": "execute_result"
    }
   ],
   "source": [
    "# Calculating the overall ABV mean for each brewery\n",
    "meanABV_df = abv_df.groupby(level='brewery_name').mean()\n",
    "meanABV_df.head(4)"
   ]
  },
  {
   "cell_type": "code",
   "execution_count": 8,
   "metadata": {
    "collapsed": false,
    "scrolled": true
   },
   "outputs": [],
   "source": [
    "# Cleaning columns labels\n",
    "meanABV_df.columns = ('mean_Ratings', 'mean_ABV')"
   ]
  },
  {
   "cell_type": "markdown",
   "metadata": {},
   "source": [
    "By sorting the dataframe, the top breweries by average ABV are revealed."
   ]
  },
  {
   "cell_type": "code",
   "execution_count": 9,
   "metadata": {
    "collapsed": false,
    "scrolled": true
   },
   "outputs": [
    {
     "data": {
      "text/html": [
       "<div>\n",
       "<table border=\"1\" class=\"dataframe\">\n",
       "  <thead>\n",
       "    <tr style=\"text-align: right;\">\n",
       "      <th></th>\n",
       "      <th>brewery_name</th>\n",
       "      <th>mean_ABV</th>\n",
       "    </tr>\n",
       "  </thead>\n",
       "  <tbody>\n",
       "    <tr>\n",
       "      <th>0</th>\n",
       "      <td>Schorschbräu</td>\n",
       "      <td>24.690000</td>\n",
       "    </tr>\n",
       "    <tr>\n",
       "      <th>1</th>\n",
       "      <td>Shoes Brewery</td>\n",
       "      <td>15.200000</td>\n",
       "    </tr>\n",
       "    <tr>\n",
       "      <th>2</th>\n",
       "      <td>Rome Brewing Company</td>\n",
       "      <td>14.200000</td>\n",
       "    </tr>\n",
       "    <tr>\n",
       "      <th>3</th>\n",
       "      <td>Hurlimann Brewery</td>\n",
       "      <td>13.500000</td>\n",
       "    </tr>\n",
       "    <tr>\n",
       "      <th>4</th>\n",
       "      <td>Alt-Oberurseler Brauhaus</td>\n",
       "      <td>13.200000</td>\n",
       "    </tr>\n",
       "    <tr>\n",
       "      <th>5</th>\n",
       "      <td>Rascal Creek Brewing Co.</td>\n",
       "      <td>13.000000</td>\n",
       "    </tr>\n",
       "    <tr>\n",
       "      <th>6</th>\n",
       "      <td>Monks Porter House</td>\n",
       "      <td>12.466667</td>\n",
       "    </tr>\n",
       "    <tr>\n",
       "      <th>7</th>\n",
       "      <td>United Brands Company</td>\n",
       "      <td>12.000000</td>\n",
       "    </tr>\n",
       "  </tbody>\n",
       "</table>\n",
       "</div>"
      ],
      "text/plain": [
       "               brewery_name   mean_ABV\n",
       "0              Schorschbräu  24.690000\n",
       "1             Shoes Brewery  15.200000\n",
       "2      Rome Brewing Company  14.200000\n",
       "3         Hurlimann Brewery  13.500000\n",
       "4  Alt-Oberurseler Brauhaus  13.200000\n",
       "5  Rascal Creek Brewing Co.  13.000000\n",
       "6        Monks Porter House  12.466667\n",
       "7     United Brands Company  12.000000"
      ]
     },
     "execution_count": 9,
     "metadata": {},
     "output_type": "execute_result"
    }
   ],
   "source": [
    "sorted_df = meanABV_df.drop('mean_Ratings', 1).sort_values('mean_ABV', ascending=False).reset_index()\n",
    "sorted_df.head(8)"
   ]
  },
  {
   "cell_type": "markdown",
   "metadata": {},
   "source": [
    "Plotting the results to compare the highest ABV breweries with the rest:"
   ]
  },
  {
   "cell_type": "code",
   "execution_count": 10,
   "metadata": {
    "collapsed": false,
    "scrolled": false
   },
   "outputs": [
    {
     "data": {
      "image/png": "[encoded data removed]",
      "text/plain": [
       "<matplotlib.figure.Figure at 0x116eae588>"
      ]
     },
     "metadata": {},
     "output_type": "display_data"
    }
   ],
   "source": [
    "# Seaborn plotting\n",
    "plt.figure(figsize=(9, 5))\n",
    "x = meanABV_df['mean_ABV'].dropna()\n",
    "figdist = sns.distplot(x, bins=30, kde=False, rug=True);\n",
    "\n",
    "# Matplotlib graph formatting\n",
    "plt.title('Mean Beer ABV by Brewery')\n",
    "plt.axis([0, 27, 0, 1800])\n",
    "plt.xlabel('ABV')\n",
    "plt.ylabel('Frequency')\n",
    "plt.show()"
   ]
  },
  {
   "cell_type": "markdown",
   "metadata": {},
   "source": [
    "Visulising the data shows that most breweries brew around 5% ABV, much less than the 25% of Schorschbräu.\n",
    "The rug plot shows the anomalous value of the Schorschbräu ABV."
   ]
  },
  {
   "cell_type": "markdown",
   "metadata": {},
   "source": [
    "---\n",
    "### 2. If you had to pick 3 beers to recommend using only this data, which would you pick?\n",
    "\n",
    "Looking at the dataset, the 'review_overall' input must be the most accurate metric to rank the beers. While there are other features that judge facets of the beers' quality, the user takes these all into consideration when choosing the overall score. \n",
    "\n",
    "For a more robust recommendation, beers with too few reveiws will be excluded. The review count is first added to the data frame, and visualised to find a good threshold. \n",
    "\n"
   ]
  },
  {
   "cell_type": "code",
   "execution_count": 11,
   "metadata": {
    "collapsed": false,
    "scrolled": false
   },
   "outputs": [
    {
     "data": {
      "text/html": [
       "<div>\n",
       "<table border=\"1\" class=\"dataframe\">\n",
       "  <thead>\n",
       "    <tr style=\"text-align: right;\">\n",
       "      <th></th>\n",
       "      <th>beer_beerid</th>\n",
       "      <th>beer_abv</th>\n",
       "      <th>review_overall</th>\n",
       "      <th>review_count</th>\n",
       "    </tr>\n",
       "  </thead>\n",
       "  <tbody>\n",
       "    <tr>\n",
       "      <th>count</th>\n",
       "      <td>1586614.000000</td>\n",
       "      <td>1518829.000000</td>\n",
       "      <td>1586614.000000</td>\n",
       "      <td>1586614.000000</td>\n",
       "    </tr>\n",
       "    <tr>\n",
       "      <th>mean</th>\n",
       "      <td>21712.794279</td>\n",
       "      <td>7.042387</td>\n",
       "      <td>3.815581</td>\n",
       "      <td>535.713711</td>\n",
       "    </tr>\n",
       "    <tr>\n",
       "      <th>std</th>\n",
       "      <td>21818.335997</td>\n",
       "      <td>2.322526</td>\n",
       "      <td>0.720622</td>\n",
       "      <td>636.457332</td>\n",
       "    </tr>\n",
       "    <tr>\n",
       "      <th>min</th>\n",
       "      <td>3.000000</td>\n",
       "      <td>0.010000</td>\n",
       "      <td>0.000000</td>\n",
       "      <td>1.000000</td>\n",
       "    </tr>\n",
       "    <tr>\n",
       "      <th>25%</th>\n",
       "      <td>1717.000000</td>\n",
       "      <td>5.200000</td>\n",
       "      <td>3.500000</td>\n",
       "      <td>72.000000</td>\n",
       "    </tr>\n",
       "    <tr>\n",
       "      <th>50%</th>\n",
       "      <td>13906.000000</td>\n",
       "      <td>6.500000</td>\n",
       "      <td>4.000000</td>\n",
       "      <td>294.000000</td>\n",
       "    </tr>\n",
       "    <tr>\n",
       "      <th>75%</th>\n",
       "      <td>39441.000000</td>\n",
       "      <td>8.500000</td>\n",
       "      <td>4.500000</td>\n",
       "      <td>747.000000</td>\n",
       "    </tr>\n",
       "    <tr>\n",
       "      <th>max</th>\n",
       "      <td>77317.000000</td>\n",
       "      <td>57.700000</td>\n",
       "      <td>5.000000</td>\n",
       "      <td>3290.000000</td>\n",
       "    </tr>\n",
       "  </tbody>\n",
       "</table>\n",
       "</div>"
      ],
      "text/plain": [
       "          beer_beerid        beer_abv  review_overall    review_count\n",
       "count  1586614.000000  1518829.000000  1586614.000000  1586614.000000\n",
       "mean     21712.794279        7.042387        3.815581      535.713711\n",
       "std      21818.335997        2.322526        0.720622      636.457332\n",
       "min          3.000000        0.010000        0.000000        1.000000\n",
       "25%       1717.000000        5.200000        3.500000       72.000000\n",
       "50%      13906.000000        6.500000        4.000000      294.000000\n",
       "75%      39441.000000        8.500000        4.500000      747.000000\n",
       "max      77317.000000       57.700000        5.000000     3290.000000"
      ]
     },
     "execution_count": 11,
     "metadata": {},
     "output_type": "execute_result"
    }
   ],
   "source": [
    "bf = df[['brewery_name','beer_name','beer_beerid','beer_abv', 'beer_style', 'review_overall']]\n",
    "\n",
    "pd.options.mode.chained_assignment = None  # default='warn'\n",
    "bf['review_count'] = bf.groupby(['beer_beerid'])['review_overall'].transform('count')\n",
    "bf.describe()"
   ]
  },
  {
   "cell_type": "markdown",
   "metadata": {},
   "source": [
    "Above, we can see that the average number of reveiws per beer is 536. "
   ]
  },
  {
   "cell_type": "code",
   "execution_count": 12,
   "metadata": {
    "collapsed": false,
    "scrolled": true
   },
   "outputs": [
    {
     "data": {
      "image/png": "[encoded data removed]",
      "text/plain": [
       "<matplotlib.figure.Figure at 0x116e89898>"
      ]
     },
     "metadata": {},
     "output_type": "display_data"
    }
   ],
   "source": [
    "# Histogram to visualise review count distribution\n",
    "bf.review_count.hist(bins=50)\n",
    "plt.show()"
   ]
  },
  {
   "cell_type": "markdown",
   "metadata": {},
   "source": [
    "With this knowledge, 100 reviews seems like a sensible threshold for the miniumum count. "
   ]
  },
  {
   "cell_type": "code",
   "execution_count": 13,
   "metadata": {
    "collapsed": false,
    "scrolled": false
   },
   "outputs": [
    {
     "data": {
      "text/html": [
       "<div>\n",
       "<table border=\"1\" class=\"dataframe\">\n",
       "  <thead>\n",
       "    <tr style=\"text-align: right;\">\n",
       "      <th></th>\n",
       "      <th>brewery_name</th>\n",
       "      <th>beer_name</th>\n",
       "      <th>beer_beerid</th>\n",
       "      <th>beer_abv</th>\n",
       "      <th>beer_style</th>\n",
       "      <th>review_count</th>\n",
       "      <th>review_mean</th>\n",
       "    </tr>\n",
       "  </thead>\n",
       "  <tbody>\n",
       "    <tr>\n",
       "      <th>334855</th>\n",
       "      <td>Kern River Brewing Company</td>\n",
       "      <td>Citra DIPA</td>\n",
       "      <td>56082</td>\n",
       "      <td>8.00</td>\n",
       "      <td>American Double / Imperial IPA</td>\n",
       "      <td>252</td>\n",
       "      <td>4.630952</td>\n",
       "    </tr>\n",
       "    <tr>\n",
       "      <th>482051</th>\n",
       "      <td>Brasserie Cantillon</td>\n",
       "      <td>Cantillon Blåbær Lambik</td>\n",
       "      <td>36316</td>\n",
       "      <td>5.00</td>\n",
       "      <td>Lambic - Fruit</td>\n",
       "      <td>156</td>\n",
       "      <td>4.628205</td>\n",
       "    </tr>\n",
       "    <tr>\n",
       "      <th>378243</th>\n",
       "      <td>The Alchemist</td>\n",
       "      <td>Heady Topper</td>\n",
       "      <td>16814</td>\n",
       "      <td>8.00</td>\n",
       "      <td>American Double / Imperial IPA</td>\n",
       "      <td>469</td>\n",
       "      <td>4.625800</td>\n",
       "    </tr>\n",
       "    <tr>\n",
       "      <th>1141056</th>\n",
       "      <td>Russian River Brewing Company</td>\n",
       "      <td>Deviation - Bottleworks 9th Anniversary</td>\n",
       "      <td>41928</td>\n",
       "      <td>6.83</td>\n",
       "      <td>American Wild Ale</td>\n",
       "      <td>112</td>\n",
       "      <td>4.620536</td>\n",
       "    </tr>\n",
       "  </tbody>\n",
       "</table>\n",
       "</div>"
      ],
      "text/plain": [
       "                          brewery_name  \\\n",
       "334855      Kern River Brewing Company   \n",
       "482051             Brasserie Cantillon   \n",
       "378243                   The Alchemist   \n",
       "1141056  Russian River Brewing Company   \n",
       "\n",
       "                                       beer_name  beer_beerid  beer_abv  \\\n",
       "334855                                Citra DIPA        56082      8.00   \n",
       "482051                   Cantillon Blåbær Lambik        36316      5.00   \n",
       "378243                              Heady Topper        16814      8.00   \n",
       "1141056  Deviation - Bottleworks 9th Anniversary        41928      6.83   \n",
       "\n",
       "                             beer_style  review_count  review_mean  \n",
       "334855   American Double / Imperial IPA           252     4.630952  \n",
       "482051                   Lambic - Fruit           156     4.628205  \n",
       "378243   American Double / Imperial IPA           469     4.625800  \n",
       "1141056               American Wild Ale           112     4.620536  "
      ]
     },
     "execution_count": 13,
     "metadata": {},
     "output_type": "execute_result"
    }
   ],
   "source": [
    "# Minium reviews\n",
    "x = 100\n",
    "\n",
    "# Adding overall_review mean column to data frame\n",
    "bf['review_mean'] = bf.groupby(['beer_beerid'])['review_overall'].transform('mean')\n",
    "bf.head(8)\n",
    "\n",
    "# Creating summary data frame that excludes beers with < x reviews, and sorts the data\n",
    "summary = bf[bf.review_count >= x].groupby('beer_beerid').head(1).sort_values('review_mean', ascending=False)\n",
    "summary = summary.drop('review_overall', axis=1)\n",
    "summary.head(4)"
   ]
  },
  {
   "cell_type": "markdown",
   "metadata": {},
   "source": [
    "To answer the project question, the summary data frame is called."
   ]
  },
  {
   "cell_type": "code",
   "execution_count": 14,
   "metadata": {
    "collapsed": false
   },
   "outputs": [
    {
     "data": {
      "text/html": [
       "<div>\n",
       "<table border=\"1\" class=\"dataframe\">\n",
       "  <thead>\n",
       "    <tr style=\"text-align: right;\">\n",
       "      <th></th>\n",
       "      <th>brewery_name</th>\n",
       "      <th>beer_name</th>\n",
       "      <th>beer_beerid</th>\n",
       "      <th>beer_abv</th>\n",
       "      <th>beer_style</th>\n",
       "      <th>review_count</th>\n",
       "      <th>review_mean</th>\n",
       "    </tr>\n",
       "  </thead>\n",
       "  <tbody>\n",
       "    <tr>\n",
       "      <th>334855</th>\n",
       "      <td>Kern River Brewing Company</td>\n",
       "      <td>Citra DIPA</td>\n",
       "      <td>56082</td>\n",
       "      <td>8</td>\n",
       "      <td>American Double / Imperial IPA</td>\n",
       "      <td>252</td>\n",
       "      <td>4.630952</td>\n",
       "    </tr>\n",
       "    <tr>\n",
       "      <th>482051</th>\n",
       "      <td>Brasserie Cantillon</td>\n",
       "      <td>Cantillon Blåbær Lambik</td>\n",
       "      <td>36316</td>\n",
       "      <td>5</td>\n",
       "      <td>Lambic - Fruit</td>\n",
       "      <td>156</td>\n",
       "      <td>4.628205</td>\n",
       "    </tr>\n",
       "    <tr>\n",
       "      <th>378243</th>\n",
       "      <td>The Alchemist</td>\n",
       "      <td>Heady Topper</td>\n",
       "      <td>16814</td>\n",
       "      <td>8</td>\n",
       "      <td>American Double / Imperial IPA</td>\n",
       "      <td>469</td>\n",
       "      <td>4.625800</td>\n",
       "    </tr>\n",
       "  </tbody>\n",
       "</table>\n",
       "</div>"
      ],
      "text/plain": [
       "                      brewery_name                beer_name  beer_beerid  \\\n",
       "334855  Kern River Brewing Company               Citra DIPA        56082   \n",
       "482051         Brasserie Cantillon  Cantillon Blåbær Lambik        36316   \n",
       "378243               The Alchemist             Heady Topper        16814   \n",
       "\n",
       "        beer_abv                      beer_style  review_count  review_mean  \n",
       "334855         8  American Double / Imperial IPA           252     4.630952  \n",
       "482051         5                  Lambic - Fruit           156     4.628205  \n",
       "378243         8  American Double / Imperial IPA           469     4.625800  "
      ]
     },
     "execution_count": 14,
     "metadata": {},
     "output_type": "execute_result"
    }
   ],
   "source": [
    "# Top 3 beers with >100 reviews\n",
    "summary.iloc[0:3,:]"
   ]
  },
  {
   "cell_type": "markdown",
   "metadata": {},
   "source": [
    "Graphing shows the relationship between reveiw count and overall score. Interestingly, all of the most popular beers have an overall review well above the mean (3.79)."
   ]
  },
  {
   "cell_type": "code",
   "execution_count": 15,
   "metadata": {
    "collapsed": false,
    "scrolled": true
   },
   "outputs": [
    {
     "data": {
      "image/png": "[encoded data removed]",
      "text/plain": [
       "<matplotlib.figure.Figure at 0x120394e10>"
      ]
     },
     "metadata": {},
     "output_type": "display_data"
    }
   ],
   "source": [
    "x = summary.review_mean\n",
    "y = summary.review_count\n",
    "\n",
    "# Create subplots and annotations\n",
    "fig, ax = plt.subplots()\n",
    "fig = plt.scatter(x, y, s=30, alpha=0.1)\n",
    "plt.title('Beer Advocate - Overall Review')\n",
    "plt.xlabel('Mean Score')\n",
    "plt.ylabel('Review Count')\n",
    "plt.axis([1, 5, 0, 3500])\n",
    "ax.annotate('1. Citra DIPA, Kern River Brewing Company (4.631)', xy=(x[334855], y[334855]), xytext=(140,60), \n",
    "            textcoords='offset points', ha='center', va='bottom',\n",
    "            bbox=dict(boxstyle='round, pad=0.2', fc='yellow', alpha=0.3),\n",
    "            arrowprops=dict(arrowstyle='->', connectionstyle='arc3, rad=0.5', \n",
    "                            color='red'))\n",
    "ax.annotate('2. Cantillon Blåbær Lambik, Brasserie Cantillon (4.628)', xy=(x[482051], y[482051]), xytext=(160,35), \n",
    "            textcoords='offset points', ha='center', va='bottom',\n",
    "            bbox=dict(boxstyle='round, pad=0.2', fc='yellow', alpha=0.3),\n",
    "            arrowprops=dict(arrowstyle='->', connectionstyle='arc3, rad=0.3', \n",
    "                            color='red'))\n",
    "ax.annotate('3. Heady Topper, Brasserie Cantillon (4.625)', xy=(x[378243], y[378243]), xytext=(120,75), \n",
    "            textcoords='offset points', ha='center', va='bottom',\n",
    "            bbox=dict(boxstyle='round, pad=0.2', fc='yellow', alpha=0.3),\n",
    "            arrowprops=dict(arrowstyle='->', connectionstyle='arc3, rad=0.6', \n",
    "                            color='red'))\n",
    "plt.show()"
   ]
  },
  {
   "cell_type": "markdown",
   "metadata": {},
   "source": [
    "The top right data point with ~2500 reviews looks interesting too, so I'll extract that and it add it to the recommendations. \n",
    "Being the most popular high-quality beer, it might actually be available for you to source locally!"
   ]
  },
  {
   "cell_type": "code",
   "execution_count": 16,
   "metadata": {
    "collapsed": false,
    "scrolled": true
   },
   "outputs": [
    {
     "data": {
      "text/html": [
       "<div>\n",
       "<table border=\"1\" class=\"dataframe\">\n",
       "  <thead>\n",
       "    <tr style=\"text-align: right;\">\n",
       "      <th></th>\n",
       "      <th>brewery_name</th>\n",
       "      <th>beer_name</th>\n",
       "      <th>beer_beerid</th>\n",
       "      <th>beer_abv</th>\n",
       "      <th>beer_style</th>\n",
       "      <th>review_count</th>\n",
       "      <th>review_mean</th>\n",
       "    </tr>\n",
       "  </thead>\n",
       "  <tbody>\n",
       "    <tr>\n",
       "      <th>1127975</th>\n",
       "      <td>Russian River Brewing Company</td>\n",
       "      <td>Pliny The Elder</td>\n",
       "      <td>7971</td>\n",
       "      <td>8.0</td>\n",
       "      <td>American Double / Imperial IPA</td>\n",
       "      <td>2527</td>\n",
       "      <td>4.590028</td>\n",
       "    </tr>\n",
       "    <tr>\n",
       "      <th>669204</th>\n",
       "      <td>Bayerische Staatsbrauerei Weihenstephan</td>\n",
       "      <td>Weihenstephaner Hefeweissbier</td>\n",
       "      <td>731</td>\n",
       "      <td>5.4</td>\n",
       "      <td>Hefeweizen</td>\n",
       "      <td>1981</td>\n",
       "      <td>4.515901</td>\n",
       "    </tr>\n",
       "    <tr>\n",
       "      <th>1479675</th>\n",
       "      <td>Brouwerij Westvleteren (Sint-Sixtusabdij van W...</td>\n",
       "      <td>Trappist Westvleteren 12</td>\n",
       "      <td>1545</td>\n",
       "      <td>10.2</td>\n",
       "      <td>Quadrupel (Quad)</td>\n",
       "      <td>1272</td>\n",
       "      <td>4.617925</td>\n",
       "    </tr>\n",
       "    <tr>\n",
       "      <th>1487813</th>\n",
       "      <td>Brouwerij Westvleteren (Sint-Sixtusabdij van W...</td>\n",
       "      <td>Trappist Westvleteren 8</td>\n",
       "      <td>857</td>\n",
       "      <td>8.0</td>\n",
       "      <td>Dubbel</td>\n",
       "      <td>707</td>\n",
       "      <td>4.514144</td>\n",
       "    </tr>\n",
       "  </tbody>\n",
       "</table>\n",
       "</div>"
      ],
      "text/plain": [
       "                                              brewery_name  \\\n",
       "1127975                      Russian River Brewing Company   \n",
       "669204             Bayerische Staatsbrauerei Weihenstephan   \n",
       "1479675  Brouwerij Westvleteren (Sint-Sixtusabdij van W...   \n",
       "1487813  Brouwerij Westvleteren (Sint-Sixtusabdij van W...   \n",
       "\n",
       "                             beer_name  beer_beerid  beer_abv  \\\n",
       "1127975                Pliny The Elder         7971       8.0   \n",
       "669204   Weihenstephaner Hefeweissbier          731       5.4   \n",
       "1479675       Trappist Westvleteren 12         1545      10.2   \n",
       "1487813        Trappist Westvleteren 8          857       8.0   \n",
       "\n",
       "                             beer_style  review_count  review_mean  \n",
       "1127975  American Double / Imperial IPA          2527     4.590028  \n",
       "669204                       Hefeweizen          1981     4.515901  \n",
       "1479675                Quadrupel (Quad)          1272     4.617925  \n",
       "1487813                          Dubbel           707     4.514144  "
      ]
     },
     "execution_count": 16,
     "metadata": {},
     "output_type": "execute_result"
    }
   ],
   "source": [
    "summary[summary.review_mean > 4.5].sort_values('review_count', ascending=False).head(4)"
   ]
  },
  {
   "cell_type": "markdown",
   "metadata": {},
   "source": [
    "The recommended beers, based on overall review and popularity\n",
    "\n",
    "* **Citra DIPA** (American Double / Imperial IPA), by the *Kern River Brewing Company*\n",
    "* **Cantillon Blåbær Lambik** (American Double / Imperial IPA), by *Brasserie Cantillon*\n",
    "* **Heady Topper** (Lambic - Fruit), by *The Alchemist*\n",
    "* **Pliny The Elder** (Imperial IPA), by the *Russian River Brewing Company* \n"
   ]
  },
  {
   "cell_type": "markdown",
   "metadata": {},
   "source": [
    "---\n",
    "### 3. Which of the factors (aroma, taste, appearance, palette) are most important in determining the overall quality of a beer?"
   ]
  },
  {
   "cell_type": "code",
   "execution_count": 17,
   "metadata": {
    "collapsed": false,
    "scrolled": true
   },
   "outputs": [
    {
     "data": {
      "text/html": [
       "<div>\n",
       "<table border=\"1\" class=\"dataframe\">\n",
       "  <thead>\n",
       "    <tr style=\"text-align: right;\">\n",
       "      <th></th>\n",
       "      <th>beer_beerid</th>\n",
       "      <th>review_aroma</th>\n",
       "      <th>review_overall</th>\n",
       "      <th>beer_abv</th>\n",
       "      <th>review_palate</th>\n",
       "      <th>review_taste</th>\n",
       "      <th>review_appearance</th>\n",
       "    </tr>\n",
       "    <tr>\n",
       "      <th>beer_beerid</th>\n",
       "      <th></th>\n",
       "      <th></th>\n",
       "      <th></th>\n",
       "      <th></th>\n",
       "      <th></th>\n",
       "      <th></th>\n",
       "      <th></th>\n",
       "    </tr>\n",
       "  </thead>\n",
       "  <tbody>\n",
       "    <tr>\n",
       "      <th>3</th>\n",
       "      <td>3</td>\n",
       "      <td>4.000000</td>\n",
       "      <td>4.166667</td>\n",
       "      <td>NaN</td>\n",
       "      <td>4.166667</td>\n",
       "      <td>4.166667</td>\n",
       "      <td>3.833333</td>\n",
       "    </tr>\n",
       "    <tr>\n",
       "      <th>4</th>\n",
       "      <td>10</td>\n",
       "      <td>3.800000</td>\n",
       "      <td>3.700000</td>\n",
       "      <td>NaN</td>\n",
       "      <td>3.700000</td>\n",
       "      <td>3.450000</td>\n",
       "      <td>3.950000</td>\n",
       "    </tr>\n",
       "    <tr>\n",
       "      <th>5</th>\n",
       "      <td>424</td>\n",
       "      <td>3.205189</td>\n",
       "      <td>3.549528</td>\n",
       "      <td>4.5</td>\n",
       "      <td>3.318396</td>\n",
       "      <td>3.340802</td>\n",
       "      <td>3.485849</td>\n",
       "    </tr>\n",
       "    <tr>\n",
       "      <th>6</th>\n",
       "      <td>877</td>\n",
       "      <td>3.515964</td>\n",
       "      <td>3.706956</td>\n",
       "      <td>5.6</td>\n",
       "      <td>3.513113</td>\n",
       "      <td>3.645382</td>\n",
       "      <td>3.836374</td>\n",
       "    </tr>\n",
       "    <tr>\n",
       "      <th>7</th>\n",
       "      <td>659</td>\n",
       "      <td>3.179059</td>\n",
       "      <td>3.266313</td>\n",
       "      <td>4.2</td>\n",
       "      <td>3.106980</td>\n",
       "      <td>3.101669</td>\n",
       "      <td>3.251138</td>\n",
       "    </tr>\n",
       "  </tbody>\n",
       "</table>\n",
       "</div>"
      ],
      "text/plain": [
       "             beer_beerid  review_aroma  review_overall  beer_abv  \\\n",
       "beer_beerid                                                        \n",
       "3                      3      4.000000        4.166667       NaN   \n",
       "4                     10      3.800000        3.700000       NaN   \n",
       "5                    424      3.205189        3.549528       4.5   \n",
       "6                    877      3.515964        3.706956       5.6   \n",
       "7                    659      3.179059        3.266313       4.2   \n",
       "\n",
       "             review_palate  review_taste  review_appearance  \n",
       "beer_beerid                                                  \n",
       "3                 4.166667      4.166667           3.833333  \n",
       "4                 3.700000      3.450000           3.950000  \n",
       "5                 3.318396      3.340802           3.485849  \n",
       "6                 3.513113      3.645382           3.836374  \n",
       "7                 3.106980      3.101669           3.251138  "
      ]
     },
     "execution_count": 17,
     "metadata": {},
     "output_type": "execute_result"
    }
   ],
   "source": [
    "funcs = {'beer_beerid':'count',\n",
    "         'review_overall':'mean',\n",
    "         'review_aroma':'mean',\n",
    "         'review_taste':'mean',\n",
    "         'review_appearance':'mean',\n",
    "         'review_palate':'mean',\n",
    "         'beer_abv':'mean'}\n",
    "df1 = df.groupby('beer_beerid').agg(funcs)\n",
    "df1.head()"
   ]
  },
  {
   "cell_type": "markdown",
   "metadata": {},
   "source": [
    "The correlation between columns needs to be investigated. Below, the Pearson product-moment correlation is calculated and plotted on a heatmap."
   ]
  },
  {
   "cell_type": "code",
   "execution_count": 18,
   "metadata": {
    "collapsed": false
   },
   "outputs": [
    {
     "data": {
      "text/html": [
       "<div>\n",
       "<table border=\"1\" class=\"dataframe\">\n",
       "  <thead>\n",
       "    <tr style=\"text-align: right;\">\n",
       "      <th></th>\n",
       "      <th>beer_beerid</th>\n",
       "      <th>review_aroma</th>\n",
       "      <th>review_overall</th>\n",
       "      <th>beer_abv</th>\n",
       "      <th>review_palate</th>\n",
       "    </tr>\n",
       "  </thead>\n",
       "  <tbody>\n",
       "    <tr>\n",
       "      <th>beer_beerid</th>\n",
       "      <td>1.000000</td>\n",
       "      <td>0.067120</td>\n",
       "      <td>0.055473</td>\n",
       "      <td>0.091053</td>\n",
       "      <td>0.062961</td>\n",
       "    </tr>\n",
       "    <tr>\n",
       "      <th>review_aroma</th>\n",
       "      <td>0.067120</td>\n",
       "      <td>1.000000</td>\n",
       "      <td>0.741132</td>\n",
       "      <td>0.340009</td>\n",
       "      <td>0.722609</td>\n",
       "    </tr>\n",
       "    <tr>\n",
       "      <th>review_overall</th>\n",
       "      <td>0.055473</td>\n",
       "      <td>0.741132</td>\n",
       "      <td>1.000000</td>\n",
       "      <td>0.192175</td>\n",
       "      <td>0.803974</td>\n",
       "    </tr>\n",
       "    <tr>\n",
       "      <th>beer_abv</th>\n",
       "      <td>0.091053</td>\n",
       "      <td>0.340009</td>\n",
       "      <td>0.192175</td>\n",
       "      <td>1.000000</td>\n",
       "      <td>0.294547</td>\n",
       "    </tr>\n",
       "    <tr>\n",
       "      <th>review_palate</th>\n",
       "      <td>0.062961</td>\n",
       "      <td>0.722609</td>\n",
       "      <td>0.803974</td>\n",
       "      <td>0.294547</td>\n",
       "      <td>1.000000</td>\n",
       "    </tr>\n",
       "  </tbody>\n",
       "</table>\n",
       "</div>"
      ],
      "text/plain": [
       "                beer_beerid  review_aroma  review_overall  beer_abv  \\\n",
       "beer_beerid        1.000000      0.067120        0.055473  0.091053   \n",
       "review_aroma       0.067120      1.000000        0.741132  0.340009   \n",
       "review_overall     0.055473      0.741132        1.000000  0.192175   \n",
       "beer_abv           0.091053      0.340009        0.192175  1.000000   \n",
       "review_palate      0.062961      0.722609        0.803974  0.294547   \n",
       "\n",
       "                review_palate  \n",
       "beer_beerid          0.062961  \n",
       "review_aroma         0.722609  \n",
       "review_overall       0.803974  \n",
       "beer_abv             0.294547  \n",
       "review_palate        1.000000  "
      ]
     },
     "execution_count": 18,
     "metadata": {},
     "output_type": "execute_result"
    }
   ],
   "source": [
    " df1.iloc[:,0:5].corr()"
   ]
  },
  {
   "cell_type": "code",
   "execution_count": 19,
   "metadata": {
    "collapsed": false,
    "scrolled": false
   },
   "outputs": [
    {
     "data": {
      "image/png": "[encoded data removed]",
      "text/plain": [
       "<matplotlib.figure.Figure at 0x120324588>"
      ]
     },
     "metadata": {},
     "output_type": "display_data"
    }
   ],
   "source": [
    "# Removing 'beer_beerid' and finding correlation\n",
    "df2 = df1.iloc[:,0:6]\n",
    "df2.columns = ['Palate', 'ABV', 'Aroma', 'Taste', 'Appearance', 'Overall']\n",
    "cor_vals = df2.corr()\n",
    "cor_vals = cor_vals.iloc[1:6,0:5]\n",
    "\n",
    "# Generate a mask for the upper triangle\n",
    "mask = np.zeros_like(cor_vals, dtype=np.bool)\n",
    "mask[np.triu_indices_from(mask, k=1)] = True\n",
    "\n",
    "# Plot in seaborn\n",
    "plt.figure(figsize=(8.5, 5))\n",
    "sns.heatmap(cor_vals, mask=mask, annot=True, linewidths=.5, cmap=\"YlGnBu\")\n",
    "\n",
    "plt.title(\"Pearson Correlations\")\n",
    "plt.show()"
   ]
  },
  {
   "cell_type": "markdown",
   "metadata": {},
   "source": [
    "Here we can see that the most influential factors in overall score is Taste (0.87), followed by Armoa (0.81)."
   ]
  },
  {
   "cell_type": "markdown",
   "metadata": {},
   "source": [
    "### 4. If you typically enjoy a beer due to its aroma and appearance, which beer style should you try?\n",
    "\n",
    "To answer this, we need to group the dataframe by beer style, then sort by an aggregated mean of the aroma and appearance score. A scatter plot would be a good way to visualise the relationship between aroma and appearance. "
   ]
  },
  {
   "cell_type": "code",
   "execution_count": 20,
   "metadata": {
    "collapsed": false,
    "scrolled": true
   },
   "outputs": [
    {
     "data": {
      "text/html": [
       "<div>\n",
       "<table border=\"1\" class=\"dataframe\">\n",
       "  <thead>\n",
       "    <tr>\n",
       "      <th></th>\n",
       "      <th colspan=\"3\" halign=\"left\">review_aroma</th>\n",
       "      <th colspan=\"3\" halign=\"left\">review_appearance</th>\n",
       "    </tr>\n",
       "    <tr>\n",
       "      <th></th>\n",
       "      <th>size</th>\n",
       "      <th>mean</th>\n",
       "      <th>std</th>\n",
       "      <th>size</th>\n",
       "      <th>mean</th>\n",
       "      <th>std</th>\n",
       "    </tr>\n",
       "    <tr>\n",
       "      <th>beer_style</th>\n",
       "      <th></th>\n",
       "      <th></th>\n",
       "      <th></th>\n",
       "      <th></th>\n",
       "      <th></th>\n",
       "      <th></th>\n",
       "    </tr>\n",
       "  </thead>\n",
       "  <tbody>\n",
       "    <tr>\n",
       "      <th>Altbier</th>\n",
       "      <td>7741</td>\n",
       "      <td>3.624015</td>\n",
       "      <td>0.582302</td>\n",
       "      <td>7741</td>\n",
       "      <td>3.809327</td>\n",
       "      <td>0.514903</td>\n",
       "    </tr>\n",
       "    <tr>\n",
       "      <th>American Adjunct Lager</th>\n",
       "      <td>30749</td>\n",
       "      <td>2.480211</td>\n",
       "      <td>0.719682</td>\n",
       "      <td>30749</td>\n",
       "      <td>2.788546</td>\n",
       "      <td>0.737899</td>\n",
       "    </tr>\n",
       "    <tr>\n",
       "      <th>American Amber / Red Ale</th>\n",
       "      <td>45751</td>\n",
       "      <td>3.627254</td>\n",
       "      <td>0.622302</td>\n",
       "      <td>45751</td>\n",
       "      <td>3.810190</td>\n",
       "      <td>0.543047</td>\n",
       "    </tr>\n",
       "  </tbody>\n",
       "</table>\n",
       "</div>"
      ],
      "text/plain": [
       "                         review_aroma                     review_appearance  \\\n",
       "                                 size      mean       std              size   \n",
       "beer_style                                                                    \n",
       "Altbier                          7741  3.624015  0.582302              7741   \n",
       "American Adjunct Lager          30749  2.480211  0.719682             30749   \n",
       "American Amber / Red Ale        45751  3.627254  0.622302             45751   \n",
       "\n",
       "                                              \n",
       "                              mean       std  \n",
       "beer_style                                    \n",
       "Altbier                   3.809327  0.514903  \n",
       "American Adjunct Lager    2.788546  0.737899  \n",
       "American Amber / Red Ale  3.810190  0.543047  "
      ]
     },
     "execution_count": 20,
     "metadata": {},
     "output_type": "execute_result"
    }
   ],
   "source": [
    "# Create dataframe with relevant features\n",
    "bf = df[['brewery_name',\n",
    "         'review_overall',\n",
    "         'review_aroma',\n",
    "         'review_appearance',\n",
    "         'beer_style']]\n",
    "\n",
    "# Grouping by beer_style, and aggregating statistical values\n",
    "df4 = bf.groupby('beer_style').agg({'review_aroma': [np.size, np.mean, np.std], \n",
    "                                    'review_appearance': [np.size, np.mean, np.std]})\n",
    "\n",
    "df4.head(3)"
   ]
  },
  {
   "cell_type": "markdown",
   "metadata": {},
   "source": [
    "Creating an aggregate mean of appearance and aroma, and then sorting by this value, gives the highest rated beer type for the two variables. "
   ]
  },
  {
   "cell_type": "code",
   "execution_count": 21,
   "metadata": {
    "collapsed": false,
    "scrolled": true
   },
   "outputs": [
    {
     "data": {
      "text/html": [
       "<div>\n",
       "<table border=\"1\" class=\"dataframe\">\n",
       "  <thead>\n",
       "    <tr>\n",
       "      <th></th>\n",
       "      <th colspan=\"3\" halign=\"left\">review_aroma</th>\n",
       "      <th colspan=\"3\" halign=\"left\">review_appearance</th>\n",
       "      <th>agg_mean</th>\n",
       "    </tr>\n",
       "    <tr>\n",
       "      <th></th>\n",
       "      <th>size</th>\n",
       "      <th>mean</th>\n",
       "      <th>std</th>\n",
       "      <th>size</th>\n",
       "      <th>mean</th>\n",
       "      <th>std</th>\n",
       "      <th></th>\n",
       "    </tr>\n",
       "    <tr>\n",
       "      <th>beer_style</th>\n",
       "      <th></th>\n",
       "      <th></th>\n",
       "      <th></th>\n",
       "      <th></th>\n",
       "      <th></th>\n",
       "      <th></th>\n",
       "      <th></th>\n",
       "    </tr>\n",
       "  </thead>\n",
       "  <tbody>\n",
       "    <tr>\n",
       "      <th>American Double / Imperial Stout</th>\n",
       "      <td>50705</td>\n",
       "      <td>4.160665</td>\n",
       "      <td>0.570496</td>\n",
       "      <td>50705</td>\n",
       "      <td>4.163633</td>\n",
       "      <td>0.515715</td>\n",
       "      <td>4.162149</td>\n",
       "    </tr>\n",
       "    <tr>\n",
       "      <th>Russian Imperial Stout</th>\n",
       "      <td>54129</td>\n",
       "      <td>4.076576</td>\n",
       "      <td>0.542319</td>\n",
       "      <td>54129</td>\n",
       "      <td>4.210072</td>\n",
       "      <td>0.508614</td>\n",
       "      <td>4.143324</td>\n",
       "    </tr>\n",
       "    <tr>\n",
       "      <th>Quadrupel (Quad)</th>\n",
       "      <td>18086</td>\n",
       "      <td>4.132533</td>\n",
       "      <td>0.544143</td>\n",
       "      <td>18086</td>\n",
       "      <td>4.117964</td>\n",
       "      <td>0.514112</td>\n",
       "      <td>4.125249</td>\n",
       "    </tr>\n",
       "    <tr>\n",
       "      <th>American Double / Imperial IPA</th>\n",
       "      <td>85977</td>\n",
       "      <td>4.097782</td>\n",
       "      <td>0.568236</td>\n",
       "      <td>85977</td>\n",
       "      <td>4.078916</td>\n",
       "      <td>0.469188</td>\n",
       "      <td>4.088349</td>\n",
       "    </tr>\n",
       "    <tr>\n",
       "      <th>Gueuze</th>\n",
       "      <td>6009</td>\n",
       "      <td>4.117574</td>\n",
       "      <td>0.560086</td>\n",
       "      <td>6009</td>\n",
       "      <td>4.034864</td>\n",
       "      <td>0.499991</td>\n",
       "      <td>4.076219</td>\n",
       "    </tr>\n",
       "  </tbody>\n",
       "</table>\n",
       "</div>"
      ],
      "text/plain": [
       "                                 review_aroma                      \\\n",
       "                                         size      mean       std   \n",
       "beer_style                                                          \n",
       "American Double / Imperial Stout        50705  4.160665  0.570496   \n",
       "Russian Imperial Stout                  54129  4.076576  0.542319   \n",
       "Quadrupel (Quad)                        18086  4.132533  0.544143   \n",
       "American Double / Imperial IPA          85977  4.097782  0.568236   \n",
       "Gueuze                                   6009  4.117574  0.560086   \n",
       "\n",
       "                                 review_appearance                      \\\n",
       "                                              size      mean       std   \n",
       "beer_style                                                               \n",
       "American Double / Imperial Stout             50705  4.163633  0.515715   \n",
       "Russian Imperial Stout                       54129  4.210072  0.508614   \n",
       "Quadrupel (Quad)                             18086  4.117964  0.514112   \n",
       "American Double / Imperial IPA               85977  4.078916  0.469188   \n",
       "Gueuze                                        6009  4.034864  0.499991   \n",
       "\n",
       "                                  agg_mean  \n",
       "                                            \n",
       "beer_style                                  \n",
       "American Double / Imperial Stout  4.162149  \n",
       "Russian Imperial Stout            4.143324  \n",
       "Quadrupel (Quad)                  4.125249  \n",
       "American Double / Imperial IPA    4.088349  \n",
       "Gueuze                            4.076219  "
      ]
     },
     "execution_count": 21,
     "metadata": {},
     "output_type": "execute_result"
    }
   ],
   "source": [
    "# New agg_mean column and sort descending\n",
    "df4['agg_mean'] = 0.5 * (df4['review_appearance', 'mean'] + df4['review_aroma', 'mean'])\n",
    "df4.sort_values(('agg_mean'), ascending=False)[:5]"
   ]
  },
  {
   "cell_type": "markdown",
   "metadata": {},
   "source": [
    "To answer the question (4):\n",
    "\n",
    "- The American Double / Imperial Stout is the recommended beer type, if you like aroma and appearance."
   ]
  },
  {
   "cell_type": "code",
   "execution_count": 22,
   "metadata": {
    "collapsed": false
   },
   "outputs": [
    {
     "data": {
      "image/png": "[encoded data removed]",
      "text/plain": [
       "<matplotlib.figure.Figure at 0x1203fcdd8>"
      ]
     },
     "metadata": {},
     "output_type": "display_data"
    }
   ],
   "source": [
    "# Scatter plot with linear regression model\n",
    "x = df4['review_appearance', 'mean'].values.reshape(-1, 1)\n",
    "y = df4['review_aroma', 'mean'].values\n",
    "model = LinearRegression()\n",
    "model.fit(x, y)\n",
    "\n",
    "# Plotting the data\n",
    "plt.scatter(x, y, alpha=0.5)\n",
    "plt.title('Beer Styles - Aroma vs Appearance')\n",
    "plt.xlabel('Appearance Review')\n",
    "plt.ylabel('Aroma Review')\n",
    "plt.text(2.1, 4.2, 'r2 = {0:.2f}'.format(model.score(x, y)))\n",
    "\n",
    "# Plotting the regression model\n",
    "X_fit = np.linspace(2.5, 4.3, 100)[:, np.newaxis]\n",
    "y_fit = model.predict(X_fit)\n",
    "plt.plot(X_fit.squeeze(), y_fit, alpha=0.3);\n",
    "plt.show()"
   ]
  },
  {
   "cell_type": "markdown",
   "metadata": {},
   "source": [
    "Here a linear relationship is shown between the appearance and aroma score. This is evidence that a beer's look and smell are deeply linked. \n",
    "\n",
    "Further investigation of this could be to compare the appearance and the overall score. "
   ]
  },
  {
   "cell_type": "code",
   "execution_count": 23,
   "metadata": {
    "collapsed": false,
    "scrolled": true
   },
   "outputs": [
    {
     "data": {
      "image/png": "[encoded data removed]",
      "text/plain": [
       "<matplotlib.figure.Figure at 0x1203fc2b0>"
      ]
     },
     "metadata": {},
     "output_type": "display_data"
    }
   ],
   "source": [
    "# Grouping by beer_style, and aggregating statistical values\n",
    "df5 = bf.groupby('beer_style').agg({'review_overall': np.mean})\n",
    "y = df5.review_overall.values\n",
    "plt.scatter(x, y, alpha=0.5)\n",
    "plt.title('Beer Styles - Overall vs Appearance')\n",
    "plt.xlabel('Appearance Review')\n",
    "plt.ylabel('Overall Review')\n",
    "plt.text(2.1, 4.06, 'r2 = {0:.2f}'.format(model.score(x, y)))\n",
    "plt.show()"
   ]
  },
  {
   "cell_type": "markdown",
   "metadata": {},
   "source": [
    "Similar to the correlation score we calculated in part 3, there is a significant linear relationship between the two feature, with no obvious outliers. \n",
    "\n",
    "With this information we can conclude that the appearance, aroma, and overall score of a beer are strongly correlated. Beer recommendations using only the overall score is a safe and sensible option. \n"
   ]
  },
  {
   "cell_type": "markdown",
   "metadata": {},
   "source": [
    "Below is the CSS that edits the notebook's HTML.\n",
    "\n",
    "\n",
    "\n",
    "\n",
    "\n",
    "___"
   ]
  },
  {
   "cell_type": "code",
   "execution_count": 24,
   "metadata": {
    "collapsed": false,
    "scrolled": false
   },
   "outputs": [
    {
     "data": {
      "text/html": [
       "<style>\n",
       "body {\n",
       "    margin: 0;\n",
       "    font-family: Helvetica;\n",
       "}\n",
       "table.dataframe {\n",
       "    border-collapse: collapse;\n",
       "    border: none;\n",
       "}\n",
       "table.dataframe tr {\n",
       "    border: none;\n",
       "}\n",
       "table.dataframe td, table.dataframe th {\n",
       "    margin: 0;\n",
       "    border: 1px solid white;\n",
       "    padding-left: 0.25em;\n",
       "    padding-right: 0.25em;\n",
       "}\n",
       "table.dataframe th:not(:empty) {\n",
       "    background-color: #fec;\n",
       "    text-align: left;\n",
       "    font-weight: normal;\n",
       "}\n",
       "table.dataframe tr:nth-child(2) th:empty {\n",
       "    border-left: none;\n",
       "    border-right: 1px dashed #888;\n",
       "}\n",
       "table.dataframe td {\n",
       "    border: 2px solid #ccf;\n",
       "    background-color: #f4f4ff;\n",
       "}\n",
       "</style>"
      ],
      "text/plain": [
       "<IPython.core.display.HTML object>"
      ]
     },
     "execution_count": 24,
     "metadata": {},
     "output_type": "execute_result"
    }
   ],
   "source": [
    "CSS = \"\"\"\n",
    "body {\n",
    "    margin: 0;\n",
    "    font-family: Helvetica;\n",
    "}\n",
    "table.dataframe {\n",
    "    border-collapse: collapse;\n",
    "    border: none;\n",
    "}\n",
    "table.dataframe tr {\n",
    "    border: none;\n",
    "}\n",
    "table.dataframe td, table.dataframe th {\n",
    "    margin: 0;\n",
    "    border: 1px solid white;\n",
    "    padding-left: 0.25em;\n",
    "    padding-right: 0.25em;\n",
    "}\n",
    "table.dataframe th:not(:empty) {\n",
    "    background-color: #fec;\n",
    "    text-align: left;\n",
    "    font-weight: normal;\n",
    "}\n",
    "table.dataframe tr:nth-child(2) th:empty {\n",
    "    border-left: none;\n",
    "    border-right: 1px dashed #888;\n",
    "}\n",
    "table.dataframe td {\n",
    "    border: 2px solid #ccf;\n",
    "    background-color: #f4f4ff;\n",
    "}\n",
    "\"\"\"\n",
    "from IPython.core.display import HTML\n",
    "HTML('<style>{}</style>'.format(CSS))"
   ]
  }
 ],
 "metadata": {
  "kernelspec": {
   "display_name": "Python 3",
   "language": "python",
   "name": "python3"
  },
  "language_info": {
   "codemirror_mode": {
    "name": "ipython",
    "version": 3
   },
   "file_extension": ".py",
   "mimetype": "text/x-python",
   "name": "python",
   "nbconvert_exporter": "python",
   "pygments_lexer": "ipython3",
   "version": "3.5.1"
  }
 },
 "nbformat": 4,
 "nbformat_minor": 0
}
